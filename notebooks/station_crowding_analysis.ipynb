{
 "cells": [
  {
   "cell_type": "code",
   "execution_count": null,
   "metadata": {
    "vscode": {
     "languageId": "plaintext"
    }
   },
   "outputs": [],
   "source": [
    "import pandas as pd\n",
    "import matplotlib.pyplot as plt\n",
    "import seaborn as sns\n",
    "from datetime import datetime, timedelta\n",
    "\n",
    "# Load your train arrivals data (replace with your actual data source)\n",
    "df = pd.read_csv(\"your_train_data.csv\")  # Replace with your actual file path\n",
    "\n",
    "# Ensure datetime columns are properly formatted\n",
    "df['actual_arrival'] = pd.to_datetime(df['actual_arrival'])\n",
    "\n",
    "# Define time window (e.g., last 15 minutes)\n",
    "time_window = timedelta(minutes=15)\n",
    "current_time = datetime.now()\n",
    "time_cutoff = current_time - time_window\n",
    "\n",
    "# Filter for recent arrivals\n",
    "df_recent = df[df['actual_arrival'] >= time_cutoff]\n",
    "\n",
    "# Group by station and count arrivals\n",
    "station_counts = df_recent.groupby('station_name').size().reset_index(name='train_count')\n",
    "\n",
    "# Sort by train count\n",
    "df_sorted = station_counts.sort_values(by='train_count', ascending=False)\n",
    "\n",
    "# Define crowding levels\n",
    "def classify_crowding(count):\n",
    "    if count >= 10:\n",
    "        return \"🔴 High\"\n",
    "    elif count >= 5:\n",
    "        return \"🟠 Medium\"\n",
    "    else:\n",
    "        return \"🟢 Low\"\n",
    "\n",
    "df_sorted['crowding_level'] = df_sorted['train_count'].apply(classify_crowding)\n",
    "\n",
    "# Plot results\n",
    "plt.figure(figsize=(10, 6))\n",
    "sns.barplot(x='train_count', y='station_name', data=df_sorted, palette='coolwarm')\n",
    "plt.xlabel(\"Number of Trains in Last 15 Min\")\n",
    "plt.ylabel(\"Station\")\n",
    "plt.title(\"🚆 Estimated Station Crowding\")\n",
    "plt.show()\n",
    "\n",
    "# Display as a table\n",
    "print(df_sorted)\n"
   ]
  }
 ],
 "metadata": {
  "language_info": {
   "name": "python"
  }
 },
 "nbformat": 4,
 "nbformat_minor": 2
}
